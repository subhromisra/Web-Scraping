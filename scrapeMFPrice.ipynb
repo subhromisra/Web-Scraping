{
 "cells": [
  {
   "cell_type": "markdown",
   "metadata": {},
   "source": [
    "# Update Mutual Fund Daily NAV"
   ]
  },
  {
   "cell_type": "code",
   "execution_count": 1,
   "metadata": {},
   "outputs": [],
   "source": [
    "import requests\n",
    "import pandas as pd\n",
    "from bs4 import BeautifulSoup as bs\n",
    "import mysql.connector as fundDB\n",
    "import datetime"
   ]
  },
  {
   "cell_type": "markdown",
   "metadata": {},
   "source": [
    "### Reading Invested amoung and unit purchased from csv file(one time)"
   ]
  },
  {
   "cell_type": "code",
   "execution_count": 2,
   "metadata": {},
   "outputs": [],
   "source": [
    "mf = pd.read_csv('myFunds.csv')"
   ]
  },
  {
   "cell_type": "markdown",
   "metadata": {},
   "source": [
    "### Webscraping daily NAV from valueresearchonline.com"
   ]
  },
  {
   "cell_type": "code",
   "execution_count": 3,
   "metadata": {},
   "outputs": [],
   "source": [
    "latestNAV = []\n",
    "for link in mf['Fund Link']:\n",
    "    source = requests.get(link).content\n",
    "    soup = bs(source,'lxml')\n",
    "    fundRecList = soup.find_all('small')\n",
    "    for item in list(fundRecList):\n",
    "        if 'growth:' in str(item).lower():\n",
    "            latestNAV.append(float(item.text[10:]))"
   ]
  },
  {
   "cell_type": "markdown",
   "metadata": {},
   "source": [
    "### Building the mutual fund dataframe"
   ]
  },
  {
   "cell_type": "code",
   "execution_count": 4,
   "metadata": {},
   "outputs": [],
   "source": [
    "mf['Latest NAV'] = latestNAV\n",
    "mf['Value of Investment'] = (mf['Unit Purchased'] * mf['Latest NAV']).round(2)\n",
    "mf['Absolute Return'] = (mf['Value of Investment'] - mf['Amount Invested']).round(2)\n",
    "mf['Average NAV'] = (mf['Amount Invested']/mf['Unit Purchased']).round(2)\n",
    "mf['Fund ID'] = [link.split('/')[-2] for link in mf['Fund Link']]\n",
    "mf['Unit Purchased'] = mf['Unit Purchased'].round(3)"
   ]
  },
  {
   "cell_type": "markdown",
   "metadata": {},
   "source": [
    "### Only keeping the columns that are desired"
   ]
  },
  {
   "cell_type": "code",
   "execution_count": 5,
   "metadata": {},
   "outputs": [],
   "source": [
    "latestPortNAV = ((mf['Unit Purchased']*mf['Latest NAV']).sum()/mf['Unit Purchased'].sum()).round(4)\n",
    "averagePortNAV = (mf['Amount Invested'].sum()/mf['Unit Purchased'].sum()).round(2)"
   ]
  },
  {
   "cell_type": "code",
   "execution_count": 6,
   "metadata": {},
   "outputs": [],
   "source": [
    "mf = mf[['Fund ID','Fund Name','Unit Purchased','Latest NAV', 'Amount Invested','Value of Investment','Absolute Return','Average NAV']]"
   ]
  },
  {
   "cell_type": "markdown",
   "metadata": {},
   "source": [
    "### Saving the updated Funds info in CSV file"
   ]
  },
  {
   "cell_type": "code",
   "execution_count": 7,
   "metadata": {},
   "outputs": [],
   "source": [
    "mf.to_csv('My_Investment_Analysis.csv')"
   ]
  },
  {
   "cell_type": "markdown",
   "metadata": {},
   "source": [
    "### Updating the Daily NAV into Database Mutual_Fund.Daily_NAV"
   ]
  },
  {
   "cell_type": "code",
   "execution_count": 8,
   "metadata": {},
   "outputs": [],
   "source": [
    "fundConnect = fundDB.connect(user = 'root', password = 'sf-3300a', database = 'Mutual_Fund')\n",
    "getFund = fundConnect.cursor(buffered=True, dictionary=True)"
   ]
  },
  {
   "cell_type": "code",
   "execution_count": 9,
   "metadata": {},
   "outputs": [],
   "source": [
    "insertString = \"insert into Daily_NAV (FundID, NAVDate, NAV) values(\\\"{0}\\\",\\\"{1}\\\",{2})\"\n",
    "for fid,nav in zip(mf['Fund ID'],mf['Latest NAV']):\n",
    "    query = insertString.format(fid,datetime.datetime.today().strftime('%Y-%m-%d'),nav)\n",
    "    try:\n",
    "        getFund.execute(query)\n",
    "    except:\n",
    "        print('Error has happened')"
   ]
  },
  {
   "cell_type": "code",
   "execution_count": 10,
   "metadata": {},
   "outputs": [
    {
     "data": {
      "text/plain": [
       "True"
      ]
     },
     "execution_count": 10,
     "metadata": {},
     "output_type": "execute_result"
    }
   ],
   "source": [
    "fundConnect.commit()\n",
    "getFund.close()"
   ]
  },
  {
   "cell_type": "markdown",
   "metadata": {},
   "source": [
    "### Adding some more attributes to the porfolio dataframe"
   ]
  },
  {
   "cell_type": "code",
   "execution_count": 11,
   "metadata": {},
   "outputs": [],
   "source": [
    "mf.loc[10] = ['','Total',mf['Unit Purchased'].sum(),latestPortNAV,mf['Amount Invested'].sum(),mf['Value of Investment'].sum(),mf['Absolute Return'].sum(),averagePortNAV]"
   ]
  },
  {
   "cell_type": "code",
   "execution_count": 12,
   "metadata": {},
   "outputs": [
    {
     "data": {
      "text/html": [
       "<div>\n",
       "<style scoped>\n",
       "    .dataframe tbody tr th:only-of-type {\n",
       "        vertical-align: middle;\n",
       "    }\n",
       "\n",
       "    .dataframe tbody tr th {\n",
       "        vertical-align: top;\n",
       "    }\n",
       "\n",
       "    .dataframe thead th {\n",
       "        text-align: right;\n",
       "    }\n",
       "</style>\n",
       "<table border=\"1\" class=\"dataframe\">\n",
       "  <thead>\n",
       "    <tr style=\"text-align: right;\">\n",
       "      <th></th>\n",
       "      <th>Fund ID</th>\n",
       "      <th>Fund Name</th>\n",
       "      <th>Unit Purchased</th>\n",
       "      <th>Latest NAV</th>\n",
       "      <th>Amount Invested</th>\n",
       "      <th>Value of Investment</th>\n",
       "      <th>Absolute Return</th>\n",
       "      <th>Average NAV</th>\n",
       "    </tr>\n",
       "  </thead>\n",
       "  <tbody>\n",
       "    <tr>\n",
       "      <th>0</th>\n",
       "      <td>2333</td>\n",
       "      <td>L&amp;T Midcap Fund - Growth</td>\n",
       "      <td>831.577</td>\n",
       "      <td>106.0900</td>\n",
       "      <td>105000</td>\n",
       "      <td>88222.00</td>\n",
       "      <td>-16778.00</td>\n",
       "      <td>126.27</td>\n",
       "    </tr>\n",
       "    <tr>\n",
       "      <th>1</th>\n",
       "      <td>6762</td>\n",
       "      <td>Mirae Asset Fund Large Cap Fund Regular Plan...</td>\n",
       "      <td>3540.557</td>\n",
       "      <td>40.2840</td>\n",
       "      <td>170000</td>\n",
       "      <td>142627.80</td>\n",
       "      <td>-27372.20</td>\n",
       "      <td>48.02</td>\n",
       "    </tr>\n",
       "    <tr>\n",
       "      <th>2</th>\n",
       "      <td>11463</td>\n",
       "      <td>Nippon India SMALL CAP FUND - GROWTH PLAN GR...</td>\n",
       "      <td>2813.210</td>\n",
       "      <td>29.2972</td>\n",
       "      <td>105000</td>\n",
       "      <td>82419.18</td>\n",
       "      <td>-22580.82</td>\n",
       "      <td>37.32</td>\n",
       "    </tr>\n",
       "    <tr>\n",
       "      <th>3</th>\n",
       "      <td>17439</td>\n",
       "      <td>Kotak Global Emerging Market Fund Direct - Growth</td>\n",
       "      <td>338.935</td>\n",
       "      <td>16.1360</td>\n",
       "      <td>6000</td>\n",
       "      <td>5469.06</td>\n",
       "      <td>-530.94</td>\n",
       "      <td>17.70</td>\n",
       "    </tr>\n",
       "    <tr>\n",
       "      <th>4</th>\n",
       "      <td>16230</td>\n",
       "      <td>SBI Magnum Income Direct Plan - Growth</td>\n",
       "      <td>477.413</td>\n",
       "      <td>53.8749</td>\n",
       "      <td>25000</td>\n",
       "      <td>25720.58</td>\n",
       "      <td>720.58</td>\n",
       "      <td>52.37</td>\n",
       "    </tr>\n",
       "    <tr>\n",
       "      <th>5</th>\n",
       "      <td>40665</td>\n",
       "      <td>Edelweiss US Technology Equity Fund of Fund Di...</td>\n",
       "      <td>4520.693</td>\n",
       "      <td>11.6599</td>\n",
       "      <td>50000</td>\n",
       "      <td>52710.83</td>\n",
       "      <td>2710.83</td>\n",
       "      <td>11.06</td>\n",
       "    </tr>\n",
       "    <tr>\n",
       "      <th>6</th>\n",
       "      <td>16859</td>\n",
       "      <td>Nippon India Index Fund Sensex plan Direct - G...</td>\n",
       "      <td>1555.839</td>\n",
       "      <td>15.7215</td>\n",
       "      <td>25000</td>\n",
       "      <td>24460.12</td>\n",
       "      <td>-539.88</td>\n",
       "      <td>16.07</td>\n",
       "    </tr>\n",
       "    <tr>\n",
       "      <th>7</th>\n",
       "      <td>19701</td>\n",
       "      <td>Parag Parikh Long term EquityFund Direct - Growth</td>\n",
       "      <td>2066.688</td>\n",
       "      <td>25.1826</td>\n",
       "      <td>50000</td>\n",
       "      <td>52044.58</td>\n",
       "      <td>2044.58</td>\n",
       "      <td>24.19</td>\n",
       "    </tr>\n",
       "    <tr>\n",
       "      <th>8</th>\n",
       "      <td>15690</td>\n",
       "      <td>Axis Midcap Direct Plan - Growth</td>\n",
       "      <td>1331.203</td>\n",
       "      <td>37.9600</td>\n",
       "      <td>50000</td>\n",
       "      <td>50532.47</td>\n",
       "      <td>532.47</td>\n",
       "      <td>37.56</td>\n",
       "    </tr>\n",
       "    <tr>\n",
       "      <th>9</th>\n",
       "      <td>15787</td>\n",
       "      <td>SBI Samll Cap Fund Direct - Growth</td>\n",
       "      <td>1035.047</td>\n",
       "      <td>46.2132</td>\n",
       "      <td>50000</td>\n",
       "      <td>47832.83</td>\n",
       "      <td>-2167.17</td>\n",
       "      <td>48.31</td>\n",
       "    </tr>\n",
       "    <tr>\n",
       "      <th>10</th>\n",
       "      <td></td>\n",
       "      <td>Total</td>\n",
       "      <td>18511.162</td>\n",
       "      <td>30.9024</td>\n",
       "      <td>636000</td>\n",
       "      <td>572039.45</td>\n",
       "      <td>-63960.55</td>\n",
       "      <td>34.36</td>\n",
       "    </tr>\n",
       "  </tbody>\n",
       "</table>\n",
       "</div>"
      ],
      "text/plain": [
       "   Fund ID                                          Fund Name  Unit Purchased  \\\n",
       "0     2333                           L&T Midcap Fund - Growth         831.577   \n",
       "1     6762    Mirae Asset Fund Large Cap Fund Regular Plan...        3540.557   \n",
       "2    11463    Nippon India SMALL CAP FUND - GROWTH PLAN GR...        2813.210   \n",
       "3    17439  Kotak Global Emerging Market Fund Direct - Growth         338.935   \n",
       "4    16230             SBI Magnum Income Direct Plan - Growth         477.413   \n",
       "5    40665  Edelweiss US Technology Equity Fund of Fund Di...        4520.693   \n",
       "6    16859  Nippon India Index Fund Sensex plan Direct - G...        1555.839   \n",
       "7    19701  Parag Parikh Long term EquityFund Direct - Growth        2066.688   \n",
       "8    15690                   Axis Midcap Direct Plan - Growth        1331.203   \n",
       "9    15787                 SBI Samll Cap Fund Direct - Growth        1035.047   \n",
       "10                                                      Total       18511.162   \n",
       "\n",
       "    Latest NAV  Amount Invested  Value of Investment  Absolute Return  \\\n",
       "0     106.0900           105000             88222.00        -16778.00   \n",
       "1      40.2840           170000            142627.80        -27372.20   \n",
       "2      29.2972           105000             82419.18        -22580.82   \n",
       "3      16.1360             6000              5469.06          -530.94   \n",
       "4      53.8749            25000             25720.58           720.58   \n",
       "5      11.6599            50000             52710.83          2710.83   \n",
       "6      15.7215            25000             24460.12          -539.88   \n",
       "7      25.1826            50000             52044.58          2044.58   \n",
       "8      37.9600            50000             50532.47           532.47   \n",
       "9      46.2132            50000             47832.83         -2167.17   \n",
       "10     30.9024           636000            572039.45        -63960.55   \n",
       "\n",
       "    Average NAV  \n",
       "0        126.27  \n",
       "1         48.02  \n",
       "2         37.32  \n",
       "3         17.70  \n",
       "4         52.37  \n",
       "5         11.06  \n",
       "6         16.07  \n",
       "7         24.19  \n",
       "8         37.56  \n",
       "9         48.31  \n",
       "10        34.36  "
      ]
     },
     "execution_count": 12,
     "metadata": {},
     "output_type": "execute_result"
    }
   ],
   "source": [
    "mf"
   ]
  },
  {
   "cell_type": "code",
   "execution_count": null,
   "metadata": {},
   "outputs": [],
   "source": []
  }
 ],
 "metadata": {
  "kernelspec": {
   "display_name": "Python 3",
   "language": "python",
   "name": "python3"
  },
  "language_info": {
   "codemirror_mode": {
    "name": "ipython",
    "version": 3
   },
   "file_extension": ".py",
   "mimetype": "text/x-python",
   "name": "python",
   "nbconvert_exporter": "python",
   "pygments_lexer": "ipython3",
   "version": "3.7.6"
  }
 },
 "nbformat": 4,
 "nbformat_minor": 4
}
